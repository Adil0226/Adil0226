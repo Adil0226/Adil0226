{
  "nbformat": 4,
  "nbformat_minor": 0,
  "metadata": {
    "colab": {
      "provenance": [],
      "authorship_tag": "ABX9TyM12U3Wo+Bijk5eW3WqpxWS",
      "include_colab_link": true
    },
    "kernelspec": {
      "name": "python3",
      "display_name": "Python 3"
    },
    "language_info": {
      "name": "python"
    }
  },
  "cells": [
    {
      "cell_type": "markdown",
      "metadata": {
        "id": "view-in-github",
        "colab_type": "text"
      },
      "source": [
        "<a href=\"https://colab.research.google.com/github/Adil0226/Adil0226/blob/main/AIML_LAB_03_(20_8).ipynb\" target=\"_parent\"><img src=\"https://colab.research.google.com/assets/colab-badge.svg\" alt=\"Open In Colab\"/></a>"
      ]
    },
    {
      "cell_type": "code",
      "execution_count": 2,
      "metadata": {
        "id": "lO4eFeIXCawh"
      },
      "outputs": [],
      "source": [
        "graph1={\n",
        "      'A':['G','C','D','B'],\n",
        "      'B':['A'],\n",
        "      'C':['A','D','F'],\n",
        "      'D':['A','C','E','H','G'],\n",
        "      'E':['H','D','F'],\n",
        "      'F':['C','E'],\n",
        "      'G':['A','D','H'],\n",
        "      'H':['D','E','G'],\n",
        "}"
      ]
    },
    {
      "cell_type": "code",
      "source": [
        "print(\"The adjacent List representing the graph is:\")\n",
        "print(graph1)"
      ],
      "metadata": {
        "colab": {
          "base_uri": "https://localhost:8080/"
        },
        "id": "0plrPTFnDHHt",
        "outputId": "7d0e60a2-a37f-4c28-a393-58f389d158b1"
      },
      "execution_count": 3,
      "outputs": [
        {
          "output_type": "stream",
          "name": "stdout",
          "text": [
            "The adjacent List representing the graph is:\n",
            "{'A': ['G', 'C', 'D', 'B'], 'B': ['A'], 'C': ['A', 'D', 'F'], 'D': ['A', 'C', 'E', 'H', 'G'], 'E': ['H', 'D', 'F'], 'F': ['C', 'E'], 'G': ['A', 'D', 'H'], 'H': ['D', 'E', 'G']}\n"
          ]
        }
      ]
    },
    {
      "cell_type": "code",
      "source": [
        "def dfs(graph,node,visited):\n",
        "  if node not in visited:\n",
        "    visited.append(node)\n",
        "    for k in graph[node]:\n",
        "      dfs(graph,k,visited)\n",
        "  return visited\n",
        "\n",
        "visited=dfs(graph1,'B',[])\n",
        "print(\"The Depth First Search Traversal is:\")\n",
        "print(visited)"
      ],
      "metadata": {
        "colab": {
          "base_uri": "https://localhost:8080/"
        },
        "id": "bJixPghdDKnW",
        "outputId": "daa0ec14-b6bb-45c3-9007-aacbe3ce628b"
      },
      "execution_count": 4,
      "outputs": [
        {
          "output_type": "stream",
          "name": "stdout",
          "text": [
            "The Depth First Search Traversal is:\n",
            "['B', 'A', 'G', 'D', 'C', 'F', 'E', 'H']\n"
          ]
        }
      ]
    },
    {
      "cell_type": "code",
      "source": [
        "import numpy as np\n",
        "from queue import Queue\n",
        "import heapq"
      ],
      "metadata": {
        "id": "yciSKBPMDM1h"
      },
      "execution_count": 5,
      "outputs": []
    },
    {
      "cell_type": "code",
      "source": [
        "def bestFirstSearch(initial_state,goal_state,evaluation_function):\n",
        "  priority_queue=[]\n",
        "  heapq.heappush(priority_queue,(evaluation_function(initial_state),initial_state))\n",
        "\n",
        "  while priority_queue:\n",
        "    current_state=heapq.heappop(priority_queue)[1]\n",
        "\n",
        "    if current_state==goal_state:\n",
        "      return current_state\n",
        "\n",
        "    next_states=generateNextStates[current_state]\n",
        "    for next_state in next_states:\n",
        "      priority_value=evaluation_function(next_state)\n",
        "      heapq.heappush(priority_queue,(priority_value,next_state))\n",
        "\n",
        "  return \"No solution found\"\n",
        "\n",
        "  def evaluationFunction(state):\n",
        "    return abs(state[0]+goal_state[0])+abs(state[1]-goal_state[1])\n",
        "\n",
        "  def generateNextStates(state):\n",
        "    x,y=state\n",
        "    next_states=[(x+1,y),(x-1,y),(x,y+1),(x,y-1)]\n",
        "    return [s for s in next_states if 0<=s[0]<4 and 0<=s[1]<4]\n",
        "\n",
        "  initial_state=(0,0)\n",
        "  goal_state=(4,4)\n",
        "\n",
        "  result=bestFirstSearch(initial_state,goal_state,evaluationFunction)\n",
        "  print(\"The Best First Search Traversal is:\")\n",
        "  print(result)"
      ],
      "metadata": {
        "id": "Rkp-vDB-DOiF"
      },
      "execution_count": 6,
      "outputs": []
    }
  ]
}